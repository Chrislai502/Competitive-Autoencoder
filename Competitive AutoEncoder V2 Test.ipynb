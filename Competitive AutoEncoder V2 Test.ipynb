{
 "cells": [
  {
   "cell_type": "code",
   "execution_count": 73,
   "id": "41616e1f",
   "metadata": {},
   "outputs": [
    {
     "name": "stdout",
     "output_type": "stream",
     "text": [
      "9\n",
      "1\n",
      "18\n",
      "2\n",
      "[-0.25052667  0.24655733]\n"
     ]
    }
   ],
   "source": [
    "import torch\n",
    "import torch.nn as nn\n",
    "import torchvision\n",
    "import torch.optim as optim\n",
    "from torch.optim import lr_scheduler\n",
    "from torchvision import datasets, transforms\n",
    "import matplotlib.pyplot as plt\n",
    "\n",
    "transform = transforms.ToTensor()\n",
    "\n",
    "\n",
    "\n",
    "# Data MNIST\n",
    "mnist_data = datasets.MNIST(root='./data', train = True, download = True, transform = transform)\n",
    "data_loader = torch.utils.data.DataLoader(dataset= mnist_data, batch_size = 5, shuffle = True)\n",
    "\n",
    "dataiter = iter(data_loader)\n",
    "images, labels = dataiter.next()\n",
    "\n",
    "# plotting out the images\n",
    "# plt.figure(figsize = (9,2)) # figsize(side spacing, height spacing (likely))\n",
    "# plt.gray()\n",
    "# imgs = images\n",
    "# for i, item in enumerate(imgs):\n",
    "#     if i >= 9:\n",
    "#         break\n",
    "#     plt.subplot(2, 9, i + 1)\n",
    "#     plt.imshow(item[0])\n",
    "    \n",
    "# testing model\n",
    "''' Conv 2d Layer \n",
    "#         Accessible Variables: .weights(Tensor), .bias(Tensor)\n",
    "#         parameters :\n",
    "#         torch.nn.Conv2d(in_channels, out_channels, \n",
    "#                         kernel_size, stride=1, padding=0, \n",
    "#                         dilation=1, groups=1, bias=True, \n",
    "#                         padding_mode='zeros')\n",
    "'''\n",
    "class Autoencoder_Test(nn.Module):\n",
    "    def __init__(self):\n",
    "        super().__init__()\n",
    "\n",
    "        #Image size:N, 28, 28\n",
    "        self.conv1 = nn.Conv2d(1, 1, 3, stride=2, padding=1)\n",
    "        self.conv2 = nn.Conv2d(1, 2, 3, stride=2, padding=1)\n",
    "        \n",
    "    def forward(self, x):\n",
    "        encoded = self.conv1(x)\n",
    "        print(encoded)\n",
    "        #encoded is the output of the layer\n",
    "        return encoded\n",
    "    \n",
    "model = Autoencoder_Test()\n",
    "\n",
    "generator = model.parameters() #(returns a generator)\n",
    "\n",
    "# for param in conv1.parameters():\n",
    "#     param.requires_grad = False\n",
    "\n",
    "# generator from model.params()\n",
    "for params in generator:\n",
    "    npweight = params.detach().numpy()\n",
    "    print(npweight.size)\n",
    "\n",
    "print(npweight)\n",
    "\n",
    "\n",
    "# Simple training loop\n",
    "\n",
    "# num_epochs = 1\n",
    "# outputs = []\n",
    "\n",
    "# for epoch in range(num_epochs):\n",
    "#     for (img, _) in data_loader:\n",
    "#         #Reconstructed img, Likely going to be \n",
    "#         recon  = model(img)\n",
    "#         loss = criterion(recon, img)\n",
    "        \n",
    "#         optimizer.zero_grad()\n",
    "#         loss.backward()\n",
    "#         optimizer.step()\n",
    "\n"
   ]
  },
  {
   "cell_type": "code",
   "execution_count": null,
   "id": "cf930945",
   "metadata": {},
   "outputs": [],
   "source": [
    "\n",
    "\n"
   ]
  }
 ],
 "metadata": {
  "kernelspec": {
   "display_name": "Python 3",
   "language": "python",
   "name": "python3"
  },
  "language_info": {
   "codemirror_mode": {
    "name": "ipython",
    "version": 3
   },
   "file_extension": ".py",
   "mimetype": "text/x-python",
   "name": "python",
   "nbconvert_exporter": "python",
   "pygments_lexer": "ipython3",
   "version": "3.8.10"
  }
 },
 "nbformat": 4,
 "nbformat_minor": 5
}
