{
 "cells": [
  {
   "cell_type": "code",
   "execution_count": null,
   "id": "080a88cf",
   "metadata": {},
   "outputs": [],
   "source": [
    "# grad can only be implicitly created for scalar outputs\n",
    "\n",
    "x.requires_grad_(False)  #whenever there is trailing \"_\", pytorch function will replace the value within\n",
    "y = x.detach() # create a copy without require_grad\n",
    "\n",
    "# All the gradient values in .grad attribute of a single variable will accumulate you run .backwards()\n",
    "\n",
    "weights.grad.zero_() #to zero .grad attribute for weight tensor"
   ]
  },
  {
   "cell_type": "code",
   "execution_count": null,
   "id": "e6bb8d56",
   "metadata": {},
   "outputs": [],
   "source": [
    "Question:\n",
    "I have a pytorch Tensor of size torch.Size([4, 3, 966, 1296])\n",
    "I want to convert it to numpy array using the following code:\n",
    "imgs = imgs.numpy()[:, ::-1, :, :]\n",
    "Can anyone please explain what this code is doing ?\n",
    "\n",
    "Answer:\n",
    "There are 4 dimensions of the tensor you want to convert.\n",
    "[:, ::-1, :, :] \n",
    ": means that the first dimension should be copied as it is and converted, same goes for the third and fourth dimension.\n",
    "::-1 means that for the second axes it reverses the the axes"
   ]
  }
 ],
 "metadata": {
  "kernelspec": {
   "display_name": "Python 3",
   "language": "python",
   "name": "python3"
  },
  "language_info": {
   "codemirror_mode": {
    "name": "ipython",
    "version": 3
   },
   "file_extension": ".py",
   "mimetype": "text/x-python",
   "name": "python",
   "nbconvert_exporter": "python",
   "pygments_lexer": "ipython3",
   "version": "3.8.8"
  }
 },
 "nbformat": 4,
 "nbformat_minor": 5
}
