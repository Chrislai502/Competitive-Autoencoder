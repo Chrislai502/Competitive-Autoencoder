{
 "cells": [
  {
   "cell_type": "code",
   "execution_count": 107,
   "id": "4e049611",
   "metadata": {},
   "outputs": [],
   "source": [
    "import torch\n",
    "import torch.nn as nn\n",
    "import torchvision\n",
    "import torch.optim as optim\n",
    "# from torch.optim import lr_scheduler\n",
    "from torchvision import datasets, transforms\n",
    "import matplotlib.pyplot as plt\n",
    "# import torch.nn.functional as F\n",
    "import numpy as np\n",
    "import math\n",
    "\n",
    "\n",
    "''' Device config'''\n",
    "# device = torch.device('cuda' if torch.cuda.is_available() else 'cpu')\n",
    "device = torch.device('cpu')\n",
    "\n",
    "''' Parameters (CHange Anything Here!) '''\n",
    "torch.manual_seed(10)\n",
    "transform = transforms.ToTensor()\n",
    "batch_size = 100\n",
    "# lifetime Sparcity\n",
    "k_rate = 0.5\n",
    "\n",
    "''' Code Starts Here '''\n",
    "# Data MNIST\n",
    "mnist_data = datasets.MNIST(root='./data', train = True, download = True, transform = transform)\n",
    "data_loader = torch.utils.data.DataLoader(dataset= mnist_data, batch_size = batch_size, shuffle = True)\n",
    "dataiter = iter(data_loader)\n",
    "\n",
    "\n",
    "''' Conv 2d Layer \n",
    "#         Accessible Variables: .weights(Tensor), .bias(Tensor)\n",
    "#         parameters :\n",
    "#         torch.nn.Conv2d(in_channels, out_channels, \n",
    "#                         kernel_size, stride=1, padding=0, \n",
    "#                         dilation=1, groups=1, bias=True, \n",
    "#                         padding_mode='zeros')\n",
    "'''\n",
    "# CONV-WTA CRITERIA\n",
    "# - zero padded, so that each feature map has the same size as the input\n",
    "# - hidden representation is mapped linearly to the output using a deconvolution operation\n",
    "# - Parameters are optimized to reduce the mean squared error MSE\n",
    "# - Conv layer is 5 x5, DECONVOLUTION layer is using filters of 11x 11\n",
    "### In this implementation, I will not use deconvolution, but transpose convolution to ease process\n",
    "class Competitive_Autoencoder(nn.Module):\n",
    "    def __init__(self):\n",
    "        super().__init__()\n",
    "\n",
    "        #Image size:N, 28, 28\n",
    "        self.conv1      = nn.Conv2d(1, 128, 5, stride=1, padding = 2)  # size:N, 28, 28\n",
    "        self.conv2      = nn.Conv2d(128, 128, 5, stride=1, padding = 2)  # size:N, 28, 28\n",
    "        self.transConv1 = nn.ConvTranspose2d(in_channels=128, out_channels=1, kernel_size=11, stride =1, padding = 5) # padding will decrease output size # size:N, 28, 28\n",
    "#         self.conv1.apply(self.init_weights)\n",
    "#         self.conv2.apply(self.init_weights)\n",
    "#         self.transConv1.apply(self.init_weights)\n",
    "        \n",
    "#     def init_weights(m):\n",
    "#         torch.nn.init.xavier_uniform(m.weight)\n",
    "#         m.bias.data.fill_(0.01)    \n",
    "    \n",
    "    def forward(self, x):\n",
    "        encoded = self.conv1(x) # encode, output: torch.Size([num_batches, num_channels, 28, 28])\n",
    "        hidden = self.conv2(encoded)\n",
    "        b4hidden = hidden.clone()\n",
    "        winner = self.spatial_sparsity_(hidden)\n",
    "#         print(hidden.shape)\n",
    "#         hidden = self.lifetime_sparsity_(hidden, winner, k_rate)\n",
    "        decoded = self.transConv1(hidden)\n",
    "        return encoded, b4hidden, hidden, decoded\n",
    "\n",
    "#     def reconstruct(self, x):\n",
    "#         encoded = nn.ReLU(self.conv1(x)) # encode, output: torch.Size([3, 2, 28, 28])\n",
    "#         decoded = torch.sigmoid(self.transConv1(hidden))\n",
    "#         return decoded\n",
    "    \n",
    "    # Spatial Sparsity reconstructs the activation map, remain only one winner neuron of each feature map and rest to 0\n",
    "    # with torch.no_grad() temporarily sets all of the requires_grad flags to false\n",
    "    def spatial_sparsity_(self, hiddenMaps):\n",
    "        with torch.no_grad():\n",
    "            shape = hiddenMaps.shape  #torch.Size([batch_size, feature_num, 26, 26])\n",
    "            n_batches = shape[0]\n",
    "            n_features = shape[1]\n",
    "            size = shape[2]\n",
    "            \n",
    "            # Step 1: flatten it out, find max_vals\n",
    "            flatten = hiddenMaps.view(n_batches, n_features, -1)\n",
    "            maxval, _ = torch.max(flatten, 2) # max_val return size[n_batches, n_features]\n",
    "            \n",
    "            # Step 2: creating \"drop\" Array to be multiplied into featureMaps, dropping loser values\n",
    "            maxval_p = torch.reshape(maxval, (n_batches, n_features, 1, 1))\n",
    "            drop = torch.where(hiddenMaps < maxval_p, \n",
    "                               torch.zeros((n_batches, n_features, size, size)).to(device), \n",
    "                               torch.ones((n_batches,n_features, size, size)).to(device))\n",
    "        \n",
    "        # To retain the graph, use .data to only modify the data of the tensor\n",
    "        hiddenMaps.data = hiddenMaps.data*drop.data\n",
    "        return maxval\n",
    "        \n",
    "    # Only retain the top-k percent of the winners for every feature. The rest will be zeroed out\n",
    "    def lifetime_sparsity_(self, hiddenMaps, maxval, k_percent):\n",
    "        with torch.no_grad():\n",
    "            shape = hiddenMaps.shape  #torch.Size([batch_size, feature_num, 26, 26])\n",
    "            n_batches = shape[0]\n",
    "            n_features = shape[1]\n",
    "            size = shape[2]\n",
    "            k = math.floor(n_batches * k_percent)\n",
    "            \n",
    "            top_k, _ = torch.topk(maxval, k, 0) \n",
    "\n",
    "            # Step 2: creating \"drop\" Array to be multiplied into featureMaps, dropping loser values\n",
    "            drop = torch.where(maxval < top_k[k-1:k, :],  \n",
    "                               torch.zeros((n_batches, n_features)).to(device), \n",
    "                               torch.ones((n_batches, n_features)).to(device))\n",
    "\n",
    "        # To retain the graph, use .data to only modify the data of the tensor\n",
    "        hiddenMaps.data = hiddenMaps.data * drop.reshape(n_batches, n_features, 1, 1).data\n",
    "        return hiddenMaps\n",
    "    "
   ]
  },
  {
   "cell_type": "code",
   "execution_count": 108,
   "id": "aa4501e6",
   "metadata": {},
   "outputs": [
    {
     "name": "stdout",
     "output_type": "stream",
     "text": [
      "Encoded:  <MkldnnConvolutionBackward object at 0x000001A4145B6100>\n",
      "Hidden:  <MkldnnConvolutionBackward object at 0x000001A411CCC5E0>\n",
      "Decoded:  <SlowConvTranspose2DBackward object at 0x000001A4145B6100>\n"
     ]
    }
   ],
   "source": [
    "model = Competitive_Autoencoder().to(device)\n",
    "img, _ = next(dataiter)\n",
    "\n",
    "encoded, b4hidden, hidden, decoded = model(img)\n",
    "# kernels = hidden[0:1:,0:1,:,:].detach().clone()\n",
    "# print(kernels.shape)\n",
    "# filter_img = torchvision.utils.make_grid(kernels, nrow = 12)\n",
    "# # # change ordering since matplotlib requires images to \n",
    "# # # be (H, W, C)\n",
    "# print(filter_img.shape)\n",
    "# plt.imshow(filter_img.permute(1, 2, 0))\n",
    "# # plt.subplot(2, 9, 9)\n",
    "# # plt.imshow(decoded[0][0].detach())\n",
    "print(\"Encoded: \", encoded.grad_fn)\n",
    "# print(\"Hiddenb4: \", b4hidden)\n",
    "print(\"Hidden: \", hidden.grad_fn)\n",
    "print(\"Decoded: \", decoded.grad_fn)"
   ]
  },
  {
   "cell_type": "code",
   "execution_count": 118,
   "id": "3804540b",
   "metadata": {},
   "outputs": [
    {
     "name": "stdout",
     "output_type": "stream",
     "text": [
      "[[0.         0.         0.         0.         0.        ]\n",
      " [0.         0.         0.         0.         0.        ]\n",
      " [0.         0.         0.         0.         0.26152986]\n",
      " [0.         0.         0.         0.         0.        ]\n",
      " [0.         0.         0.         0.         0.        ]]\n"
     ]
    },
    {
     "data": {
      "image/png": "[encoded data removed]",
      "text/plain": [
       "<Figure size 432x288 with 1 Axes>"
      ]
     },
     "metadata": {
      "needs_background": "light"
     },
     "output_type": "display_data"
    }
   ],
   "source": [
    "plt.imshow(b4hidden[0][0].detach())\n",
    "# print(b4hidden[0][0][0:20, 0:20])\n",
    "npu=b4hidden[0][0][5:10, 15:20].detach().numpy()\n",
    "print(np.where(npu>0.26, npu, 0))"
   ]
  },
  {
   "cell_type": "code",
   "execution_count": 112,
   "id": "3eeb56ab",
   "metadata": {},
   "outputs": [
    {
     "data": {
      "text/plain": [
       "<matplotlib.image.AxesImage at 0x1a4146f6af0>"
      ]
     },
     "execution_count": 112,
     "metadata": {},
     "output_type": "execute_result"
    },
    {
     "data": {
      "image/png": "[encoded data removed]",
      "text/plain": [
       "<Figure size 432x288 with 1 Axes>"
      ]
     },
     "metadata": {
      "needs_background": "light"
     },
     "output_type": "display_data"
    }
   ],
   "source": [
    "plt.imshow(hidden[0][0][5:10, 15:20].detach())"
   ]
  },
  {
   "cell_type": "code",
   "execution_count": null,
   "id": "acd3219c",
   "metadata": {},
   "outputs": [],
   "source": [
    "hiddenMaps = encoded\n",
    "with torch.no_grad():\n",
    "    shape = hiddenMaps.shape  #torch.Size([batch_size, feature_num, 28, 28])\n",
    "    n_batches = shape[0]\n",
    "    n_features = shape[1]\n",
    "    size = shape[2]\n",
    "\n",
    "    # Step 1: flatten it out, find max_vals\n",
    "    flatten = hiddenMaps.view(n_batches, n_features, -1)\n",
    "    maxval, _ = torch.max(flatten, 2) # max_val return size[n_batches, n_features]\n",
    "\n",
    "    # Step 2: creating \"drop\" Array to be multiplied into featureMaps, dropping loser values\n",
    "    maxval_p = torch.reshape(maxval, (n_batches, n_features, 1, 1))\n",
    "    drop = torch.where(hiddenMaps < maxval_p, \n",
    "                       torch.zeros((n_batches, n_features, size, size)).to(device), \n",
    "                       torch.ones((n_batches,n_features, size, size)).to(device))"
   ]
  }
 ],
 "metadata": {
  "kernelspec": {
   "display_name": "Python 3",
   "language": "python",
   "name": "python3"
  },
  "language_info": {
   "codemirror_mode": {
    "name": "ipython",
    "version": 3
   },
   "file_extension": ".py",
   "mimetype": "text/x-python",
   "name": "python",
   "nbconvert_exporter": "python",
   "pygments_lexer": "ipython3",
   "version": "3.8.10"
  }
 },
 "nbformat": 4,
 "nbformat_minor": 5
}
